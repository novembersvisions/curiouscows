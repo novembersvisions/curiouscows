{
 "cells": [
  {
   "cell_type": "code",
   "execution_count": 94,
   "metadata": {},
   "outputs": [
    {
     "data": {
      "text/html": [
       "<div>\n",
       "<style scoped>\n",
       "    .dataframe tbody tr th:only-of-type {\n",
       "        vertical-align: middle;\n",
       "    }\n",
       "\n",
       "    .dataframe tbody tr th {\n",
       "        vertical-align: top;\n",
       "    }\n",
       "\n",
       "    .dataframe thead th {\n",
       "        text-align: right;\n",
       "    }\n",
       "</style>\n",
       "<table border=\"1\" class=\"dataframe\">\n",
       "  <thead>\n",
       "    <tr style=\"text-align: right;\">\n",
       "      <th></th>\n",
       "      <th>ingredient1</th>\n",
       "      <th>ingredient2</th>\n",
       "      <th>ingredient3</th>\n",
       "      <th>classification</th>\n",
       "    </tr>\n",
       "  </thead>\n",
       "  <tbody>\n",
       "    <tr>\n",
       "      <th>0</th>\n",
       "      <td>Pumpkin</td>\n",
       "      <td>Allspice</td>\n",
       "      <td>Bay Leaf</td>\n",
       "      <td>Highly Compatible</td>\n",
       "    </tr>\n",
       "    <tr>\n",
       "      <th>1</th>\n",
       "      <td>Pumpkin</td>\n",
       "      <td>Cinnamon</td>\n",
       "      <td>Ginger</td>\n",
       "      <td>Highly Compatible</td>\n",
       "    </tr>\n",
       "    <tr>\n",
       "      <th>2</th>\n",
       "      <td>Pumpkin</td>\n",
       "      <td>Pasta</td>\n",
       "      <td>Butter</td>\n",
       "      <td>Moderately Compatible</td>\n",
       "    </tr>\n",
       "    <tr>\n",
       "      <th>3</th>\n",
       "      <td>Pumpkin</td>\n",
       "      <td>Apples</td>\n",
       "      <td>Curry</td>\n",
       "      <td>Moderately Compatible</td>\n",
       "    </tr>\n",
       "    <tr>\n",
       "      <th>4</th>\n",
       "      <td>Pumpkin</td>\n",
       "      <td>Brown Sugar</td>\n",
       "      <td>Pine Nuts</td>\n",
       "      <td>Highly Compatible</td>\n",
       "    </tr>\n",
       "  </tbody>\n",
       "</table>\n",
       "</div>"
      ],
      "text/plain": [
       "  ingredient1  ingredient2 ingredient3         classification\n",
       "0     Pumpkin     Allspice    Bay Leaf      Highly Compatible\n",
       "1     Pumpkin     Cinnamon      Ginger      Highly Compatible\n",
       "2     Pumpkin        Pasta      Butter  Moderately Compatible\n",
       "3     Pumpkin       Apples       Curry  Moderately Compatible\n",
       "4     Pumpkin  Brown Sugar   Pine Nuts      Highly Compatible"
      ]
     },
     "execution_count": 94,
     "metadata": {},
     "output_type": "execute_result"
    }
   ],
   "source": [
    "import pandas as pd\n",
    "\n",
    "data = pd.read_csv('tastetrios.csv')\n",
    "data.head()"
   ]
  },
  {
   "cell_type": "code",
   "execution_count": 95,
   "metadata": {},
   "outputs": [],
   "source": [
    "# ingredients = [data['ingredient1'],data['ingredient2'],data['ingredient3']]\n",
    "ingredients = map(list, zip(data['ingredient1'].tolist(),data['ingredient2'].tolist(),data['ingredient3'].tolist()))\n",
    "ingredients = list(ingredients)"
   ]
  },
  {
   "cell_type": "code",
   "execution_count": 96,
   "metadata": {},
   "outputs": [],
   "source": [
    "from gensim.models import Word2Vec\n",
    "\n",
    "model = Word2Vec(sentences=ingredients, vector_size=100, window=3, min_count=5, sg=1)\n",
    "model.save(\"ingredient_word2vec.model\")"
   ]
  },
  {
   "cell_type": "code",
   "execution_count": 97,
   "metadata": {},
   "outputs": [],
   "source": [
    "model = Word2Vec.load(\"ingredient_word2vec.model\")"
   ]
  },
  {
   "cell_type": "code",
   "execution_count": 98,
   "metadata": {},
   "outputs": [],
   "source": [
    "import numpy as np\n",
    "\n",
    "def recommend_ingredients_multiple(ingredient, model, top_n=5):\n",
    "    print(model.wv)\n",
    "    valid_ingredients = [ing for ing in ingredient if ing in model.wv]\n",
    "    if valid_ingredients:\n",
    "        mean_vector = np.mean([model.wv[ing] for ing in valid_ingredients], axis=0)\n",
    "        return model.wv.similar_by_vector(mean_vector, topn=top_n)\n",
    "    else:\n",
    "        return []"
   ]
  },
  {
   "cell_type": "code",
   "execution_count": 101,
   "metadata": {},
   "outputs": [
    {
     "name": "stdout",
     "output_type": "stream",
     "text": [
      "KeyedVectors<vector_size=100, 89 keys>\n"
     ]
    },
    {
     "data": {
      "text/plain": [
       "[('Honey', 1.0),\n",
       " ('Avocado', 0.24139513075351715),\n",
       " ('Brown Sugar', 0.23756438493728638),\n",
       " ('Chives', 0.23416154086589813),\n",
       " ('Yogurt', 0.21166813373565674)]"
      ]
     },
     "execution_count": 101,
     "metadata": {},
     "output_type": "execute_result"
    }
   ],
   "source": [
    "recommend_ingredients_multiple([\"Honey\"], model)"
   ]
  }
 ],
 "metadata": {
  "kernelspec": {
   "display_name": "sapicore2",
   "language": "python",
   "name": "python3"
  },
  "language_info": {
   "codemirror_mode": {
    "name": "ipython",
    "version": 3
   },
   "file_extension": ".py",
   "mimetype": "text/x-python",
   "name": "python",
   "nbconvert_exporter": "python",
   "pygments_lexer": "ipython3",
   "version": "3.11.5"
  }
 },
 "nbformat": 4,
 "nbformat_minor": 2
}
