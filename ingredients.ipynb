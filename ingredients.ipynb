{
 "cells": [
  {
   "cell_type": "code",
   "execution_count": 1,
   "metadata": {},
   "outputs": [],
   "source": [
    "import pandas as pd\n",
    "import numpy as np\n",
    "from itertools import combinations\n",
    "from gensim.models import Word2Vec\n",
    "from tqdm import tqdm\n",
    "import ast\n",
    "\n",
    "data = pd.read_csv('dataset/full_dataset.csv')\n",
    "data = data[data['source'] == 'Recipes1M']\n",
    "data['NER'] = data['NER'].apply(ast.literal_eval)"
   ]
  },
  {
   "cell_type": "code",
   "execution_count": 2,
   "metadata": {},
   "outputs": [
    {
     "name": "stderr",
     "output_type": "stream",
     "text": [
      "Creating pairs: 100%|██████████| 588044/588044 [00:02<00:00, 204654.78it/s]\n"
     ]
    }
   ],
   "source": [
    "training_pairs = []\n",
    "for ingredients in tqdm(data['NER'], desc=\"Creating pairs\"):\n",
    "    pairs = list(combinations(ingredients, 2))\n",
    "    training_pairs.extend(pairs)"
   ]
  },
  {
   "cell_type": "code",
   "execution_count": 4,
   "metadata": {},
   "outputs": [
    {
     "name": "stderr",
     "output_type": "stream",
     "text": [
      "Training model: 100%|██████████| 26384199/26384199 [00:13<00:00, 1930045.11it/s]\n"
     ]
    }
   ],
   "source": [
    "model = Word2Vec(sentences=tqdm(training_pairs, desc=\"Training model\"), vector_size=100, window=1, sg=1, min_count=5)\n",
    "model.save(\"recipe_word2vec.model\")"
   ]
  }
 ],
 "metadata": {
  "kernelspec": {
   "display_name": "sapicore2",
   "language": "python",
   "name": "python3"
  },
  "language_info": {
   "codemirror_mode": {
    "name": "ipython",
    "version": 3
   },
   "file_extension": ".py",
   "mimetype": "text/x-python",
   "name": "python",
   "nbconvert_exporter": "python",
   "pygments_lexer": "ipython3",
   "version": "3.11.5"
  }
 },
 "nbformat": 4,
 "nbformat_minor": 2
}
